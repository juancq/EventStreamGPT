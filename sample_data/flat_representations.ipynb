{
 "cells": [
  {
   "cell_type": "markdown",
   "id": "22f2a71f",
   "metadata": {},
   "source": [
    "# Flat Representations Tutorial"
   ]
  },
  {
   "cell_type": "code",
   "execution_count": 1,
   "id": "a8c74a81",
   "metadata": {},
   "outputs": [],
   "source": [
    "import sys\n",
    "\n",
    "sys.path.append(\"../\")"
   ]
  },
  {
   "cell_type": "code",
   "execution_count": 2,
   "id": "cd4c4571",
   "metadata": {},
   "outputs": [],
   "source": [
    "# Imports\n",
    "import os\n",
    "from pathlib import Path\n",
    "import polars as pl, numpy as np\n",
    "import polars.selectors as cs\n",
    "\n",
    "from EventStream.data.dataset_polars import Dataset\n",
    "from EventStream.evaluation.FT_task_baseline import load_flat_rep, fit_baseline_task_model\n",
    "\n",
    "from sklearn.ensemble import RandomForestClassifier"
   ]
  },
  {
   "cell_type": "code",
   "execution_count": 3,
   "id": "942e8049",
   "metadata": {},
   "outputs": [],
   "source": [
    "ESD = Dataset.load(Path(os.getcwd()) / \"processed/sample\")"
   ]
  },
  {
   "cell_type": "code",
   "execution_count": 4,
   "id": "993583ec",
   "metadata": {},
   "outputs": [
    {
     "data": {
      "application/vnd.jupyter.widget-view+json": {
       "model_id": "a616e9ce1ed240738bccb58dcbf9b112",
       "version_major": 2,
       "version_minor": 0
      },
      "text/plain": [
       "Flattening Splits:   0%|          | 0/3 [00:00<?, ?it/s]"
      ]
     },
     "metadata": {},
     "output_type": "display_data"
    },
    {
     "data": {
      "application/vnd.jupyter.widget-view+json": {
       "model_id": "",
       "version_major": 2,
       "version_minor": 0
      },
      "text/plain": [
       "Subject chunks:   0%|          | 0/1 [00:00<?, ?it/s]"
      ]
     },
     "metadata": {},
     "output_type": "display_data"
    },
    {
     "data": {
      "application/vnd.jupyter.widget-view+json": {
       "model_id": "",
       "version_major": 2,
       "version_minor": 0
      },
      "text/plain": [
       "Subject chunks:   0%|          | 0/1 [00:00<?, ?it/s]"
      ]
     },
     "metadata": {},
     "output_type": "display_data"
    },
    {
     "data": {
      "application/vnd.jupyter.widget-view+json": {
       "model_id": "",
       "version_major": 2,
       "version_minor": 0
      },
      "text/plain": [
       "Subject chunks:   0%|          | 0/1 [00:00<?, ?it/s]"
      ]
     },
     "metadata": {},
     "output_type": "display_data"
    },
    {
     "data": {
      "text/html": [
       "<div><style>\n",
       ".dataframe > thead > tr > th,\n",
       ".dataframe > tbody > tr > td {\n",
       "  text-align: right;\n",
       "}\n",
       "</style>\n",
       "<small>shape: (5, 487)</small><table border=\"1\" class=\"dataframe\"><thead><tr><th>subject_id</th><th>timestamp</th><th>static/eye_color/BLUE</th><th>static/eye_color/BROWN</th><th>static/eye_color/GREEN</th><th>static/eye_color/HAZEL</th><th>static/eye_color/UNK</th><th>7d/HR/HR/count</th><th>7d/HR/HR/has_values_count</th><th>7d/age/age/count</th><th>7d/age/age/has_values_count</th><th>7d/department/CARDIAC/count</th><th>7d/department/ORTHOPEDIC/count</th><th>7d/department/PULMONARY/count</th><th>7d/department/UNK/count</th><th>7d/lab_name/GCS__EQ_1/count</th><th>7d/lab_name/GCS__EQ_1/has_values_count</th><th>7d/lab_name/GCS__EQ_10/count</th><th>7d/lab_name/GCS__EQ_10/has_values_count</th><th>7d/lab_name/GCS__EQ_11/count</th><th>7d/lab_name/GCS__EQ_11/has_values_count</th><th>7d/lab_name/GCS__EQ_12/count</th><th>7d/lab_name/GCS__EQ_12/has_values_count</th><th>7d/lab_name/GCS__EQ_13/count</th><th>7d/lab_name/GCS__EQ_13/has_values_count</th><th>7d/lab_name/GCS__EQ_14/count</th><th>7d/lab_name/GCS__EQ_14/has_values_count</th><th>7d/lab_name/GCS__EQ_15/count</th><th>7d/lab_name/GCS__EQ_15/has_values_count</th><th>7d/lab_name/GCS__EQ_2/count</th><th>7d/lab_name/GCS__EQ_2/has_values_count</th><th>7d/lab_name/GCS__EQ_3/count</th><th>7d/lab_name/GCS__EQ_3/has_values_count</th><th>7d/lab_name/GCS__EQ_4/count</th><th>7d/lab_name/GCS__EQ_4/has_values_count</th><th>7d/lab_name/GCS__EQ_5/count</th><th>7d/lab_name/GCS__EQ_5/has_values_count</th><th>&hellip;</th><th>FULL/lab_name/GCS__EQ_8/min</th><th>FULL/lab_name/GCS__EQ_9/min</th><th>FULL/lab_name/SOFA__EQ_1/min</th><th>FULL/lab_name/SOFA__EQ_2/min</th><th>FULL/lab_name/SOFA__EQ_3/min</th><th>FULL/lab_name/SOFA__EQ_4/min</th><th>FULL/lab_name/SpO2/min</th><th>FULL/lab_name/UNK/min</th><th>FULL/lab_name/creatinine/min</th><th>FULL/lab_name/potassium/min</th><th>FULL/temp/temp/min</th><th>FULL/HR/HR/max</th><th>FULL/age/age/max</th><th>FULL/lab_name/GCS__EQ_1/max</th><th>FULL/lab_name/GCS__EQ_10/max</th><th>FULL/lab_name/GCS__EQ_11/max</th><th>FULL/lab_name/GCS__EQ_12/max</th><th>FULL/lab_name/GCS__EQ_13/max</th><th>FULL/lab_name/GCS__EQ_14/max</th><th>FULL/lab_name/GCS__EQ_15/max</th><th>FULL/lab_name/GCS__EQ_2/max</th><th>FULL/lab_name/GCS__EQ_3/max</th><th>FULL/lab_name/GCS__EQ_4/max</th><th>FULL/lab_name/GCS__EQ_5/max</th><th>FULL/lab_name/GCS__EQ_6/max</th><th>FULL/lab_name/GCS__EQ_7/max</th><th>FULL/lab_name/GCS__EQ_8/max</th><th>FULL/lab_name/GCS__EQ_9/max</th><th>FULL/lab_name/SOFA__EQ_1/max</th><th>FULL/lab_name/SOFA__EQ_2/max</th><th>FULL/lab_name/SOFA__EQ_3/max</th><th>FULL/lab_name/SOFA__EQ_4/max</th><th>FULL/lab_name/SpO2/max</th><th>FULL/lab_name/UNK/max</th><th>FULL/lab_name/creatinine/max</th><th>FULL/lab_name/potassium/max</th><th>FULL/temp/temp/max</th></tr><tr><td>u8</td><td>datetime[μs]</td><td>bool</td><td>bool</td><td>bool</td><td>bool</td><td>bool</td><td>i64</td><td>i64</td><td>u32</td><td>u32</td><td>i64</td><td>i64</td><td>i64</td><td>i64</td><td>i64</td><td>i64</td><td>i64</td><td>i64</td><td>i64</td><td>i64</td><td>i64</td><td>i64</td><td>i64</td><td>i64</td><td>i64</td><td>i64</td><td>i64</td><td>i64</td><td>i64</td><td>i64</td><td>i64</td><td>i64</td><td>i64</td><td>i64</td><td>i64</td><td>i64</td><td>&hellip;</td><td>f32</td><td>f32</td><td>f32</td><td>f32</td><td>f32</td><td>f32</td><td>f32</td><td>f32</td><td>f32</td><td>f32</td><td>f32</td><td>f32</td><td>f64</td><td>f32</td><td>f32</td><td>f32</td><td>f32</td><td>f32</td><td>f32</td><td>f32</td><td>f32</td><td>f32</td><td>f32</td><td>f32</td><td>f32</td><td>f32</td><td>f32</td><td>f32</td><td>f32</td><td>f32</td><td>f32</td><td>f32</td><td>f32</td><td>f32</td><td>f32</td><td>f32</td><td>f32</td></tr></thead><tbody><tr><td>0</td><td>2010-06-24 13:23:00</td><td>null</td><td>null</td><td>true</td><td>null</td><td>null</td><td>4</td><td>4</td><td>1</td><td>1</td><td>1</td><td>0</td><td>0</td><td>0</td><td>0</td><td>0</td><td>0</td><td>0</td><td>0</td><td>0</td><td>0</td><td>0</td><td>0</td><td>0</td><td>0</td><td>0</td><td>0</td><td>0</td><td>0</td><td>0</td><td>0</td><td>0</td><td>0</td><td>0</td><td>0</td><td>0</td><td>&hellip;</td><td>null</td><td>null</td><td>null</td><td>null</td><td>null</td><td>null</td><td>-0.36323</td><td>null</td><td>-0.312384</td><td>null</td><td>-1.512411</td><td>1.294228</td><td>-0.558276</td><td>null</td><td>null</td><td>null</td><td>null</td><td>null</td><td>null</td><td>null</td><td>null</td><td>null</td><td>null</td><td>null</td><td>null</td><td>null</td><td>null</td><td>null</td><td>null</td><td>null</td><td>null</td><td>null</td><td>0.044146</td><td>null</td><td>-0.312384</td><td>null</td><td>-1.407393</td></tr><tr><td>0</td><td>2010-06-24 14:23:00</td><td>null</td><td>null</td><td>true</td><td>null</td><td>null</td><td>5</td><td>5</td><td>2</td><td>2</td><td>1</td><td>0</td><td>0</td><td>0</td><td>0</td><td>0</td><td>0</td><td>0</td><td>0</td><td>0</td><td>0</td><td>0</td><td>0</td><td>0</td><td>0</td><td>0</td><td>0</td><td>0</td><td>0</td><td>0</td><td>0</td><td>0</td><td>0</td><td>0</td><td>0</td><td>0</td><td>&hellip;</td><td>null</td><td>null</td><td>null</td><td>null</td><td>null</td><td>null</td><td>-0.36323</td><td>null</td><td>null</td><td>null</td><td>-1.512411</td><td>1.294228</td><td>-0.55825</td><td>null</td><td>null</td><td>null</td><td>null</td><td>null</td><td>null</td><td>null</td><td>null</td><td>null</td><td>null</td><td>null</td><td>null</td><td>null</td><td>null</td><td>null</td><td>null</td><td>null</td><td>null</td><td>null</td><td>0.044146</td><td>null</td><td>null</td><td>null</td><td>0.167901</td></tr><tr><td>0</td><td>2010-06-24 15:23:00</td><td>null</td><td>null</td><td>true</td><td>null</td><td>null</td><td>7</td><td>5</td><td>3</td><td>3</td><td>1</td><td>0</td><td>0</td><td>0</td><td>0</td><td>0</td><td>0</td><td>0</td><td>0</td><td>0</td><td>0</td><td>0</td><td>0</td><td>0</td><td>0</td><td>0</td><td>0</td><td>0</td><td>0</td><td>0</td><td>0</td><td>0</td><td>0</td><td>0</td><td>0</td><td>0</td><td>&hellip;</td><td>null</td><td>null</td><td>null</td><td>3.4028e38</td><td>null</td><td>null</td><td>-0.36323</td><td>null</td><td>null</td><td>null</td><td>-1.512411</td><td>null</td><td>-0.558224</td><td>null</td><td>null</td><td>null</td><td>null</td><td>null</td><td>null</td><td>null</td><td>null</td><td>null</td><td>null</td><td>null</td><td>null</td><td>null</td><td>null</td><td>null</td><td>null</td><td>-3.4028e38</td><td>null</td><td>null</td><td>0.044146</td><td>null</td><td>null</td><td>null</td><td>1.533159</td></tr><tr><td>0</td><td>2010-06-24 16:23:00</td><td>null</td><td>null</td><td>true</td><td>null</td><td>null</td><td>9</td><td>7</td><td>4</td><td>4</td><td>1</td><td>0</td><td>0</td><td>0</td><td>0</td><td>0</td><td>0</td><td>0</td><td>0</td><td>0</td><td>0</td><td>0</td><td>0</td><td>0</td><td>0</td><td>0</td><td>0</td><td>0</td><td>0</td><td>0</td><td>0</td><td>0</td><td>0</td><td>0</td><td>0</td><td>0</td><td>&hellip;</td><td>null</td><td>null</td><td>3.4028e38</td><td>null</td><td>null</td><td>null</td><td>-0.36323</td><td>null</td><td>null</td><td>-0.399881</td><td>-1.512411</td><td>1.585936</td><td>-0.558199</td><td>null</td><td>null</td><td>null</td><td>null</td><td>null</td><td>null</td><td>null</td><td>null</td><td>null</td><td>null</td><td>null</td><td>null</td><td>null</td><td>null</td><td>null</td><td>-3.4028e38</td><td>null</td><td>null</td><td>null</td><td>1.673651</td><td>null</td><td>null</td><td>-0.399881</td><td>1.585668</td></tr><tr><td>0</td><td>2010-06-24 17:23:00</td><td>null</td><td>null</td><td>true</td><td>null</td><td>null</td><td>12</td><td>9</td><td>5</td><td>5</td><td>1</td><td>0</td><td>0</td><td>0</td><td>0</td><td>0</td><td>0</td><td>0</td><td>0</td><td>0</td><td>0</td><td>0</td><td>0</td><td>0</td><td>0</td><td>0</td><td>0</td><td>0</td><td>0</td><td>0</td><td>0</td><td>0</td><td>0</td><td>0</td><td>0</td><td>0</td><td>&hellip;</td><td>null</td><td>null</td><td>null</td><td>null</td><td>null</td><td>null</td><td>-0.36323</td><td>null</td><td>null</td><td>-0.399881</td><td>-1.512411</td><td>1.585936</td><td>-0.558173</td><td>null</td><td>null</td><td>null</td><td>null</td><td>null</td><td>null</td><td>null</td><td>null</td><td>null</td><td>null</td><td>null</td><td>null</td><td>null</td><td>null</td><td>null</td><td>null</td><td>null</td><td>null</td><td>null</td><td>1.673651</td><td>null</td><td>null</td><td>0.060193</td><td>1.585668</td></tr></tbody></table></div>"
      ],
      "text/plain": [
       "shape: (5, 487)\n",
       "┌───────────┬───────────┬───────────┬───────────┬───┬───────────┬───────────┬───────────┬──────────┐\n",
       "│ subject_i ┆ timestamp ┆ static/ey ┆ static/ey ┆ … ┆ FULL/lab_ ┆ FULL/lab_ ┆ FULL/lab_ ┆ FULL/tem │\n",
       "│ d         ┆ ---       ┆ e_color/B ┆ e_color/B ┆   ┆ name/UNK/ ┆ name/crea ┆ name/pota ┆ p/temp/m │\n",
       "│ ---       ┆ datetime[ ┆ LUE       ┆ ROWN      ┆   ┆ max       ┆ tinine/ma ┆ ssium/max ┆ ax       │\n",
       "│ u8        ┆ μs]       ┆ ---       ┆ ---       ┆   ┆ ---       ┆ x         ┆ ---       ┆ ---      │\n",
       "│           ┆           ┆ bool      ┆ bool      ┆   ┆ f32       ┆ ---       ┆ f32       ┆ f32      │\n",
       "│           ┆           ┆           ┆           ┆   ┆           ┆ f32       ┆           ┆          │\n",
       "╞═══════════╪═══════════╪═══════════╪═══════════╪═══╪═══════════╪═══════════╪═══════════╪══════════╡\n",
       "│ 0         ┆ 2010-06-2 ┆ null      ┆ null      ┆ … ┆ null      ┆ -0.312384 ┆ null      ┆ -1.40739 │\n",
       "│           ┆ 4         ┆           ┆           ┆   ┆           ┆           ┆           ┆ 3        │\n",
       "│           ┆ 13:23:00  ┆           ┆           ┆   ┆           ┆           ┆           ┆          │\n",
       "│ 0         ┆ 2010-06-2 ┆ null      ┆ null      ┆ … ┆ null      ┆ null      ┆ null      ┆ 0.167901 │\n",
       "│           ┆ 4         ┆           ┆           ┆   ┆           ┆           ┆           ┆          │\n",
       "│           ┆ 14:23:00  ┆           ┆           ┆   ┆           ┆           ┆           ┆          │\n",
       "│ 0         ┆ 2010-06-2 ┆ null      ┆ null      ┆ … ┆ null      ┆ null      ┆ null      ┆ 1.533159 │\n",
       "│           ┆ 4         ┆           ┆           ┆   ┆           ┆           ┆           ┆          │\n",
       "│           ┆ 15:23:00  ┆           ┆           ┆   ┆           ┆           ┆           ┆          │\n",
       "│ 0         ┆ 2010-06-2 ┆ null      ┆ null      ┆ … ┆ null      ┆ null      ┆ -0.399881 ┆ 1.585668 │\n",
       "│           ┆ 4         ┆           ┆           ┆   ┆           ┆           ┆           ┆          │\n",
       "│           ┆ 16:23:00  ┆           ┆           ┆   ┆           ┆           ┆           ┆          │\n",
       "│ 0         ┆ 2010-06-2 ┆ null      ┆ null      ┆ … ┆ null      ┆ null      ┆ 0.060193  ┆ 1.585668 │\n",
       "│           ┆ 4         ┆           ┆           ┆   ┆           ┆           ┆           ┆          │\n",
       "│           ┆ 17:23:00  ┆           ┆           ┆   ┆           ┆           ┆           ┆          │\n",
       "└───────────┴───────────┴───────────┴───────────┴───┴───────────┴───────────┴───────────┴──────────┘"
      ]
     },
     "metadata": {},
     "output_type": "display_data"
    }
   ],
   "source": [
    "ESD.cache_flat_representation(\n",
    "    subjects_per_output_file=None,\n",
    "    feature_inclusion_frequency=None,\n",
    "    do_overwrite=False,\n",
    "    do_update=True,\n",
    ")\n",
    "flat_reps = load_flat_rep(ESD, window_sizes=['7d', '30d', 'FULL'])\n",
    "display(flat_reps['train'].head().collect())"
   ]
  },
  {
   "cell_type": "code",
   "execution_count": 5,
   "id": "31b3e3e3",
   "metadata": {},
   "outputs": [
    {
     "name": "stdout",
     "output_type": "stream",
     "text": [
      "Loading events from /home/mmd/Projects/EventStreamGPT/sample_data/processed/sample/events_df.parquet...\n"
     ]
    }
   ],
   "source": [
    "task_df = (\n",
    "    ESD.events_df\n",
    "    .groupby('subject_id')\n",
    "    .agg(pl.col('timestamp').sample().first().alias('end_time'))\n",
    "    .with_columns(\n",
    "        pl.lit(np.random.choice([0, 1, 2], size=len(ESD.subject_ids))).alias('label'),\n",
    "        pl.lit(None, dtype=pl.Datetime).alias('start_time')\n",
    "    )\n",
    ").lazy()"
   ]
  }
 ],
 "metadata": {
  "kernelspec": {
   "display_name": "Python 3 (ipykernel)",
   "language": "python",
   "name": "python3"
  },
  "language_info": {
   "codemirror_mode": {
    "name": "ipython",
    "version": 3
   },
   "file_extension": ".py",
   "mimetype": "text/x-python",
   "name": "python",
   "nbconvert_exporter": "python",
   "pygments_lexer": "ipython3",
   "version": "3.10.12"
  }
 },
 "nbformat": 4,
 "nbformat_minor": 5
}
